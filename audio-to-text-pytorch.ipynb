{
 "cells": [
  {
   "cell_type": "code",
   "execution_count": 1,
   "id": "d87a97e5",
   "metadata": {
    "_cell_guid": "b1076dfc-b9ad-4769-8c92-a6c4dae69d19",
    "_uuid": "8f2839f25d086af736a60e9eeb907d3b93b6e0e5",
    "execution": {
     "iopub.execute_input": "2024-03-29T15:20:11.016315Z",
     "iopub.status.busy": "2024-03-29T15:20:11.015464Z",
     "iopub.status.idle": "2024-03-29T15:20:29.295951Z",
     "shell.execute_reply": "2024-03-29T15:20:29.294917Z"
    },
    "papermill": {
     "duration": 18.288085,
     "end_time": "2024-03-29T15:20:29.298868",
     "exception": false,
     "start_time": "2024-03-29T15:20:11.010783",
     "status": "completed"
    },
    "tags": []
   },
   "outputs": [],
   "source": [
    "%%bash\n",
    "# this assumes that you have a proper version of PyTorch already installed\n",
    "pip install -q torchaudio omegaconf soundfile"
   ]
  },
  {
   "cell_type": "code",
   "execution_count": 2,
   "id": "6a48e0a0",
   "metadata": {
    "execution": {
     "iopub.execute_input": "2024-03-29T15:20:29.305079Z",
     "iopub.status.busy": "2024-03-29T15:20:29.304757Z",
     "iopub.status.idle": "2024-03-29T15:20:57.204141Z",
     "shell.execute_reply": "2024-03-29T15:20:57.203119Z"
    },
    "papermill": {
     "duration": 27.905046,
     "end_time": "2024-03-29T15:20:57.206680",
     "exception": false,
     "start_time": "2024-03-29T15:20:29.301634",
     "status": "completed"
    },
    "tags": []
   },
   "outputs": [
    {
     "name": "stderr",
     "output_type": "stream",
     "text": [
      "/opt/conda/lib/python3.10/site-packages/torch/hub.py:294: UserWarning: You are about to download and run code from an untrusted repository. In a future release, this won't be allowed. To add the repository to your trusted list, change the command to {calling_fn}(..., trust_repo=False) and a command prompt will appear asking for an explicit confirmation of trust, or load(..., trust_repo=True), which will assume that the prompt is to be answered with 'yes'. You can also use load(..., trust_repo='check') which will only prompt for confirmation if the repo is not already trusted. This will eventually be the default behaviour\n",
      "  warnings.warn(\n",
      "Downloading: \"https://github.com/snakers4/silero-models/zipball/master\" to /root/.cache/torch/hub/master.zip\n",
      "100%|██████████| 112M/112M [00:19<00:00, 6.08MB/s]\n"
     ]
    },
    {
     "name": "stdout",
     "output_type": "stream",
     "text": [
      "ladies and gentlemen let me once again thank you for your patience being aware and responsible we are capable ableof overcoming the threats of obesity spread thank you\n"
     ]
    }
   ],
   "source": [
    "import torch\n",
    "import zipfile\n",
    "import torchaudio\n",
    "from glob import glob\n",
    "\n",
    "device = torch.device('cpu')  # gpu also works, but our models are fast enough for CPU\n",
    "\n",
    "model, decoder, utils = torch.hub.load(repo_or_dir='snakers4/silero-models',\n",
    "                                       model='silero_stt',\n",
    "                                       language='en', # also available 'de', 'es'\n",
    "                                       device=device)\n",
    "(read_batch, split_into_batches,\n",
    " read_audio, prepare_model_input) = utils  # see function signature for details\n",
    "\n",
    "# download a single file, any format compatible with TorchAudio (soundfile backend)\n",
    "#torch.hub.download_url_to_file('https://opus-codec.org/static/examples/samples/speech_orig.wav',\n",
    "#dst ='speech_orig.wav', progress=True)\n",
    "test_files = glob('/kaggle/input/pytorchaudio/ttsmaker-file-2024-3-29-15-3-26.wav')\n",
    "batches = split_into_batches(test_files, batch_size=10)\n",
    "input = prepare_model_input(read_batch(batches[0]),\n",
    "                            device=device)\n",
    "\n",
    "output = model(input)\n",
    "for example in output:\n",
    "    print(decoder(example.cpu()))"
   ]
  }
 ],
 "metadata": {
  "kaggle": {
   "accelerator": "none",
   "dataSources": [
    {
     "datasetId": 4693537,
     "sourceId": 7975432,
     "sourceType": "datasetVersion"
    }
   ],
   "dockerImageVersionId": 30673,
   "isGpuEnabled": false,
   "isInternetEnabled": true,
   "language": "python",
   "sourceType": "notebook"
  },
  "kernelspec": {
   "display_name": "Python 3",
   "language": "python",
   "name": "python3"
  },
  "language_info": {
   "codemirror_mode": {
    "name": "ipython",
    "version": 3
   },
   "file_extension": ".py",
   "mimetype": "text/x-python",
   "name": "python",
   "nbconvert_exporter": "python",
   "pygments_lexer": "ipython3",
   "version": "3.10.13"
  },
  "papermill": {
   "default_parameters": {},
   "duration": 50.107955,
   "end_time": "2024-03-29T15:20:58.245185",
   "environment_variables": {},
   "exception": null,
   "input_path": "__notebook__.ipynb",
   "output_path": "__notebook__.ipynb",
   "parameters": {},
   "start_time": "2024-03-29T15:20:08.137230",
   "version": "2.5.0"
  }
 },
 "nbformat": 4,
 "nbformat_minor": 5
}
